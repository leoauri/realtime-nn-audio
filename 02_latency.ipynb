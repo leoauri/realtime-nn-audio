{
 "cells": [
  {
   "cell_type": "code",
   "execution_count": 4,
   "metadata": {},
   "outputs": [],
   "source": [
    "import pyaudio\n",
    "import math\n",
    "import numpy as np\n",
    "\n",
    "from lib.test import *"
   ]
  },
  {
   "cell_type": "code",
   "execution_count": 5,
   "metadata": {},
   "outputs": [],
   "source": [
    "audioport = pyaudio.PyAudio()"
   ]
  },
  {
   "cell_type": "code",
   "execution_count": 80,
   "metadata": {},
   "outputs": [
    {
     "data": {
      "text/plain": [
       "0.0281859410430839"
      ]
     },
     "execution_count": 80,
     "metadata": {},
     "output_type": "execute_result"
    }
   ],
   "source": [
    "framerate = 44100\n",
    "latency = (1024 + 512 - 256 - 128 + 64 + 32 - 16 + 8 + 4 - 2 + 1)/framerate\n",
    "latency"
   ]
  },
  {
   "cell_type": "code",
   "execution_count": 81,
   "metadata": {},
   "outputs": [],
   "source": [
    "class SineGen():\n",
    "    def __init__(self, freq, amp=1):\n",
    "        self.freq = freq\n",
    "        self.amp = amp\n",
    "        self.phase = 0\n",
    "        self.sine_gen = self.sine_frame()\n",
    "        self.stream = audioport.open(\n",
    "            rate=framerate, \n",
    "            channels=1, \n",
    "            format=pyaudio.paFloat32, \n",
    "            output=True, \n",
    "            stream_callback=self.get_frame)\n",
    "    \n",
    "    def get_frame(self, in_data, frame_count, time_info, status):\n",
    "        frame = []\n",
    "        for f in range(frame_count):\n",
    "            # block until within latency\n",
    "            while self.stream.get_time() < time_info['output_buffer_dac_time'] + f / framerate - latency:\n",
    "                pass\n",
    "            frame.append(next(self.sine_gen))\n",
    "        return (np.array(frame, dtype=np.float32).tobytes(), pyaudio.paContinue)\n",
    "        \n",
    "    def sine_frame(self):\n",
    "        while True:\n",
    "            yield self.amp * math.sin(self.phase)\n",
    "            self.phase += 2 * math.pi * self.freq / framerate"
   ]
  },
  {
   "cell_type": "code",
   "execution_count": 82,
   "metadata": {},
   "outputs": [],
   "source": [
    "sine = SineGen(440, amp=0.8)"
   ]
  },
  {
   "cell_type": "code",
   "execution_count": 83,
   "metadata": {},
   "outputs": [],
   "source": [
    "sine.stream.stop_stream()"
   ]
  },
  {
   "cell_type": "code",
   "execution_count": 86,
   "metadata": {},
   "outputs": [],
   "source": [
    "sine = SineGen(330, amp=0.1)"
   ]
  },
  {
   "cell_type": "code",
   "execution_count": 87,
   "metadata": {},
   "outputs": [],
   "source": [
    "sine.stream.stop_stream()"
   ]
  },
  {
   "cell_type": "code",
   "execution_count": null,
   "metadata": {},
   "outputs": [],
   "source": []
  }
 ],
 "metadata": {
  "kernelspec": {
   "display_name": "Python 3",
   "language": "python",
   "name": "python3"
  },
  "language_info": {
   "codemirror_mode": {
    "name": "ipython",
    "version": 3
   },
   "file_extension": ".py",
   "mimetype": "text/x-python",
   "name": "python",
   "nbconvert_exporter": "python",
   "pygments_lexer": "ipython3",
   "version": "3.8.5"
  }
 },
 "nbformat": 4,
 "nbformat_minor": 4
}
