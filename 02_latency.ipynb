{
 "cells": [
  {
   "cell_type": "code",
   "execution_count": 1,
   "metadata": {},
   "outputs": [],
   "source": [
    "import pyaudio\n",
    "import math\n",
    "import numpy as np\n",
    "\n",
    "from lib.test import *"
   ]
  },
  {
   "cell_type": "code",
   "execution_count": 2,
   "metadata": {},
   "outputs": [],
   "source": [
    "audioport = pyaudio.PyAudio()"
   ]
  },
  {
   "cell_type": "code",
   "execution_count": 3,
   "metadata": {},
   "outputs": [
    {
     "data": {
      "text/plain": [
       "(1243, 28.1859410430839)"
      ]
     },
     "execution_count": 3,
     "metadata": {},
     "output_type": "execute_result"
    }
   ],
   "source": [
    "framerate = 44100\n",
    "latency = (1024 + 512 - 256 - 128 + 64 + 32 - 16 + 8 + 4 - 2 + 1)/framerate\n",
    "1024 + 512 - 256 - 128 + 64 + 32 - 16 + 8 + 4 - 2 + 1, latency * 1000"
   ]
  },
  {
   "cell_type": "code",
   "execution_count": 164,
   "metadata": {},
   "outputs": [],
   "source": [
    "class SineGen():\n",
    "    def __init__(self, freq, amp=1, chunk=1024, latency=True):\n",
    "        self.freq = freq\n",
    "        self.amp = amp\n",
    "        self.latency = latency\n",
    "        self.phase = 0\n",
    "        self.sine_gen = self.sine_frame()\n",
    "        self.stream = audioport.open(\n",
    "            rate=framerate, \n",
    "            channels=1, \n",
    "            format=pyaudio.paFloat32, \n",
    "            frames_per_buffer=chunk,\n",
    "            output=True, \n",
    "            stream_callback=self.get_frame)\n",
    "        self.when = []\n",
    "\n",
    "    \n",
    "    def get_frame(self, in_data, frame_count, time_info, status):\n",
    "        frame = []\n",
    "        for f in range(frame_count):\n",
    "            if self.latency:\n",
    "                # block until within latency\n",
    "                while self.stream.get_time() < time_info['output_buffer_dac_time'] + f / framerate - latency:\n",
    "                    pass\n",
    "            frame.append(next(self.sine_gen))\n",
    "            self.when.append(self.stream.get_time())\n",
    "        return (np.array(frame, dtype=np.float32).tobytes(), pyaudio.paContinue)\n",
    "        \n",
    "    def sine_frame(self):\n",
    "        while True:\n",
    "            yield self.amp * math.sin(self.phase)\n",
    "            self.phase += 2 * math.pi * self.freq / framerate"
   ]
  },
  {
   "cell_type": "code",
   "execution_count": 31,
   "metadata": {},
   "outputs": [],
   "source": [
    "sine = SineGen(440, amp=0.8, chunk=2, latency=False)"
   ]
  },
  {
   "cell_type": "code",
   "execution_count": 32,
   "metadata": {},
   "outputs": [],
   "source": [
    "sine.stream.stop_stream()"
   ]
  },
  {
   "cell_type": "code",
   "execution_count": 153,
   "metadata": {},
   "outputs": [
    {
     "data": {
      "text/plain": [
       "259"
      ]
     },
     "execution_count": 153,
     "metadata": {},
     "output_type": "execute_result"
    }
   ],
   "source": [
    "256 + 128 - 64 - 32 - 16 - 8 - 4 - 2 + 1"
   ]
  },
  {
   "cell_type": "code",
   "execution_count": 165,
   "metadata": {},
   "outputs": [],
   "source": [
    "latency = (262)/framerate"
   ]
  },
  {
   "cell_type": "code",
   "execution_count": 183,
   "metadata": {},
   "outputs": [
    {
     "data": {
      "text/plain": [
       "5.941043083900227"
      ]
     },
     "execution_count": 183,
     "metadata": {},
     "output_type": "execute_result"
    }
   ],
   "source": [
    "latency*1000"
   ]
  },
  {
   "cell_type": "code",
   "execution_count": 166,
   "metadata": {},
   "outputs": [],
   "source": [
    "sine = SineGen(440, amp=0.8, chunk=4, latency=True)"
   ]
  },
  {
   "cell_type": "code",
   "execution_count": 167,
   "metadata": {},
   "outputs": [],
   "source": [
    "sine.stream.stop_stream()"
   ]
  },
  {
   "cell_type": "code",
   "execution_count": 173,
   "metadata": {},
   "outputs": [
    {
     "data": {
      "text/plain": [
       "[<matplotlib.lines.Line2D at 0x7fd2ff143fa0>]"
      ]
     },
     "execution_count": 173,
     "metadata": {},
     "output_type": "execute_result"
    },
    {
     "data": {
      "image/png": "[encoded data removed]",
      "text/plain": [
       "<Figure size 432x288 with 1 Axes>"
      ]
     },
     "metadata": {
      "needs_background": "light"
     },
     "output_type": "display_data"
    }
   ],
   "source": [
    "import matplotlib.pyplot as plt\n",
    "plt.plot(sine.when)"
   ]
  },
  {
   "cell_type": "code",
   "execution_count": 182,
   "metadata": {},
   "outputs": [
    {
     "data": {
      "text/plain": [
       "[<matplotlib.lines.Line2D at 0x7fd303e4ce50>]"
      ]
     },
     "execution_count": 182,
     "metadata": {},
     "output_type": "execute_result"
    },
    {
     "data": {
      "image/png": "[encoded data removed]",
      "text/plain": [
       "<Figure size 432x288 with 1 Axes>"
      ]
     },
     "metadata": {
      "needs_background": "light"
     },
     "output_type": "display_data"
    }
   ],
   "source": [
    "plt.plot([sine.when[j+1] - sine.when[j] for j in range(len(sine.when) - 1)][-700:])"
   ]
  },
  {
   "cell_type": "code",
   "execution_count": 163,
   "metadata": {},
   "outputs": [
    {
     "data": {
      "text/plain": [
       "11.609977324263038"
      ]
     },
     "execution_count": 163,
     "metadata": {},
     "output_type": "execute_result"
    }
   ],
   "source": [
    "512/framerate*1000"
   ]
  }
 ],
 "metadata": {
  "kernelspec": {
   "display_name": "Python 3",
   "language": "python",
   "name": "python3"
  },
  "language_info": {
   "codemirror_mode": {
    "name": "ipython",
    "version": 3
   },
   "file_extension": ".py",
   "mimetype": "text/x-python",
   "name": "python",
   "nbconvert_exporter": "python",
   "pygments_lexer": "ipython3",
   "version": "3.8.5"
  }
 },
 "nbformat": 4,
 "nbformat_minor": 4
}
