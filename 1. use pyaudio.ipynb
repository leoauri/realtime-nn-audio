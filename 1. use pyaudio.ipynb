{
 "cells": [
  {
   "cell_type": "code",
   "execution_count": 1,
   "metadata": {},
   "outputs": [],
   "source": [
    "import pyaudio\n",
    "import math\n",
    "import matplotlib.pyplot as plt\n",
    "\n",
    "import numpy as np"
   ]
  },
  {
   "cell_type": "code",
   "execution_count": 2,
   "metadata": {},
   "outputs": [],
   "source": [
    "# import wave\n",
    "\n",
    "# with wave.open('papa fuhr stets ohne.wav', 'rb') as wf:\n",
    "#     print(wf.getparams())"
   ]
  },
  {
   "cell_type": "code",
   "execution_count": 3,
   "metadata": {},
   "outputs": [],
   "source": [
    "import operator\n",
    "\n",
    "def test(a,b,comp):\n",
    "    assert comp(a,b), f'{a} does not {comp.__name__} {b}'\n",
    "    \n",
    "def test_eq(a,b):\n",
    "    test(a,b,operator.eq)"
   ]
  },
  {
   "cell_type": "code",
   "execution_count": 4,
   "metadata": {},
   "outputs": [],
   "source": [
    "TEST = 'test'"
   ]
  },
  {
   "cell_type": "code",
   "execution_count": 5,
   "metadata": {},
   "outputs": [],
   "source": [
    "test_eq(TEST, 'test')"
   ]
  },
  {
   "cell_type": "code",
   "execution_count": 6,
   "metadata": {},
   "outputs": [],
   "source": [
    "def test_near(a,b,eps=1e-4):\n",
    "    assert abs(a - b) < eps, f'{a} not within {eps} of {b}'"
   ]
  },
  {
   "cell_type": "code",
   "execution_count": 7,
   "metadata": {},
   "outputs": [],
   "source": [
    "audioport = pyaudio.PyAudio()"
   ]
  },
  {
   "cell_type": "code",
   "execution_count": 8,
   "metadata": {},
   "outputs": [],
   "source": [
    "framerate = 44100"
   ]
  },
  {
   "cell_type": "code",
   "execution_count": 9,
   "metadata": {},
   "outputs": [
    {
     "data": {
      "text/plain": [
       "1.0"
      ]
     },
     "execution_count": 9,
     "metadata": {},
     "output_type": "execute_result"
    }
   ],
   "source": [
    "math.sin(math.pi/2)"
   ]
  },
  {
   "cell_type": "code",
   "execution_count": 10,
   "metadata": {},
   "outputs": [],
   "source": [
    "# class SineGen():\n",
    "#     def __init__(self, freq, amp=1):\n",
    "#         self.freq = freq\n",
    "#         self.amp = amp\n",
    "#         self.time = []\n",
    "    \n",
    "#     def get_frame(self, in_data, frame_count, time_info, status):\n",
    "#         frame = []\n",
    "#         for i in range(frame_count):           \n",
    "#             t = time_info['output_buffer_dac_time'] + i / framerate\n",
    "#             self.time.append(t)\n",
    "#             frame.append(self.amp * self.sine_at_time(t))\n",
    "#         return (np.array(frame, dtype=np.float32).tobytes(), pyaudio.paContinue)\n",
    "        \n",
    "#     def sine_at_time(self, t):\n",
    "#         return math.sin(2 * math.pi * t * self.freq)"
   ]
  },
  {
   "cell_type": "code",
   "execution_count": 83,
   "metadata": {},
   "outputs": [],
   "source": [
    "class SineGen():\n",
    "    def __init__(self, freq, amp=1):\n",
    "        self.freq = freq\n",
    "        self.amp = amp\n",
    "        self.phase = 0\n",
    "        self.sine_gen = self.sine_frame()\n",
    "    \n",
    "    def get_frame(self, in_data, frame_count, time_info, status):\n",
    "        frame = []\n",
    "        for f in range(frame_count):\n",
    "            frame.append(next(self.sine_gen))\n",
    "        return (np.array(frame, dtype=np.float32).tobytes(), pyaudio.paContinue)\n",
    "        \n",
    "    def sine_frame(self):\n",
    "        while True:\n",
    "            yield self.amp * math.sin(self.phase)\n",
    "            self.phase += 2 * math.pi * self.freq / framerate"
   ]
  },
  {
   "cell_type": "code",
   "execution_count": 84,
   "metadata": {},
   "outputs": [],
   "source": [
    "sine = SineGen(440, amp=0.8)"
   ]
  },
  {
   "cell_type": "code",
   "execution_count": null,
   "metadata": {},
   "outputs": [],
   "source": [
    "sine.get_frame(\n",
    "    None, \n",
    "    1024, \n",
    "    {\n",
    "        'input_buffer_adc_time': 0.0, \n",
    "        'current_time': 595785.053391073, \n",
    "        'output_buffer_dac_time': 595785.079476747\n",
    "    }, \n",
    "    None)"
   ]
  },
  {
   "cell_type": "code",
   "execution_count": 70,
   "metadata": {},
   "outputs": [],
   "source": [
    "# test_near(0, sine.sine_at_time(0))\n",
    "# test_near(0, sine.sine_at_time(1/440))\n",
    "# test_near(0, sine.sine_at_time(2/440))\n",
    "# test_near(0, sine.sine_at_time(1.5/440))\n",
    "# test_near(1, sine.sine_at_time(1.25/440))"
   ]
  },
  {
   "cell_type": "code",
   "execution_count": 71,
   "metadata": {},
   "outputs": [],
   "source": [
    "# plt.plot([sine.sine_at_time(t/framerate) for t in range(440)])"
   ]
  },
  {
   "cell_type": "code",
   "execution_count": 72,
   "metadata": {},
   "outputs": [
    {
     "data": {
      "text/plain": [
       "0.8"
      ]
     },
     "execution_count": 72,
     "metadata": {},
     "output_type": "execute_result"
    }
   ],
   "source": [
    "sine.amp"
   ]
  },
  {
   "cell_type": "code",
   "execution_count": 73,
   "metadata": {},
   "outputs": [],
   "source": [
    "# plt.plot(sine.get_frame(\n",
    "#     None, \n",
    "#     1024, \n",
    "#     {\n",
    "#         'input_buffer_adc_time': 0.0, \n",
    "#         'current_time': 595785.053391073, \n",
    "#         'output_buffer_dac_time': 595785.079476747\n",
    "#     }, \n",
    "#     None)[0])"
   ]
  },
  {
   "cell_type": "code",
   "execution_count": 74,
   "metadata": {},
   "outputs": [],
   "source": [
    "# test_data = sine.get_frame(\n",
    "#     None, \n",
    "#     1024, \n",
    "#     {\n",
    "#         'input_buffer_adc_time': 0.0, \n",
    "#         'current_time': 595785.053391073, \n",
    "#         'output_buffer_dac_time': 595785.079476747\n",
    "#     }, \n",
    "#     None)[0]\n",
    "\n",
    "# test(np.array(test_data).astype(np.float32), np.array(test_data, dtype=np.float32), np.array_equal)"
   ]
  },
  {
   "cell_type": "code",
   "execution_count": 75,
   "metadata": {},
   "outputs": [],
   "source": [
    "# np.array(sine.get_frame(\n",
    "#     None, \n",
    "#     1024, \n",
    "#     {\n",
    "#         'input_buffer_adc_time': 0.0, \n",
    "#         'current_time': 595785.053391073, \n",
    "#         'output_buffer_dac_time': 595785.079476747\n",
    "#     }, \n",
    "#     None)[0]).astype(np.float32).tobytes()"
   ]
  },
  {
   "cell_type": "code",
   "execution_count": 89,
   "metadata": {},
   "outputs": [],
   "source": [
    "stream = audioport.open(rate=framerate, channels=1, format=pyaudio.paFloat32, output=True, stream_callback=sine.get_frame)"
   ]
  },
  {
   "cell_type": "code",
   "execution_count": 90,
   "metadata": {},
   "outputs": [],
   "source": [
    "stream.start_stream()"
   ]
  },
  {
   "cell_type": "code",
   "execution_count": 91,
   "metadata": {},
   "outputs": [],
   "source": [
    "stream.stop_stream()"
   ]
  },
  {
   "cell_type": "code",
   "execution_count": 65,
   "metadata": {},
   "outputs": [],
   "source": [
    "# len(sine.time)"
   ]
  },
  {
   "cell_type": "code",
   "execution_count": 66,
   "metadata": {},
   "outputs": [],
   "source": [
    "# plt.plot(sine.time)"
   ]
  },
  {
   "cell_type": "code",
   "execution_count": 32,
   "metadata": {},
   "outputs": [],
   "source": [
    "# diff = []\n",
    "# for i in range(len(sine.time) - 1):\n",
    "#     diff.append(sine.time[i+1] - sine.time[i])"
   ]
  },
  {
   "cell_type": "code",
   "execution_count": 40,
   "metadata": {},
   "outputs": [
    {
     "data": {
      "text/plain": [
       "[<matplotlib.lines.Line2D at 0x7f991b8dddf0>]"
      ]
     },
     "execution_count": 40,
     "metadata": {},
     "output_type": "execute_result"
    },
    {
     "data": {
      "image/png": "[encoded data removed]",
      "text/plain": [
       "<Figure size 432x288 with 1 Axes>"
      ]
     },
     "metadata": {
      "needs_background": "light"
     },
     "output_type": "display_data"
    }
   ],
   "source": [
    "# plt.plot(diff[1000:1030])"
   ]
  },
  {
   "cell_type": "code",
   "execution_count": 88,
   "metadata": {},
   "outputs": [],
   "source": [
    "sine = SineGen(330, amp=0.1)"
   ]
  },
  {
   "cell_type": "code",
   "execution_count": null,
   "metadata": {},
   "outputs": [],
   "source": []
  }
 ],
 "metadata": {
  "kernelspec": {
   "display_name": "Python 3",
   "language": "python",
   "name": "python3"
  },
  "language_info": {
   "codemirror_mode": {
    "name": "ipython",
    "version": 3
   },
   "file_extension": ".py",
   "mimetype": "text/x-python",
   "name": "python",
   "nbconvert_exporter": "python",
   "pygments_lexer": "ipython3",
   "version": "3.8.5"
  }
 },
 "nbformat": 4,
 "nbformat_minor": 4
}
