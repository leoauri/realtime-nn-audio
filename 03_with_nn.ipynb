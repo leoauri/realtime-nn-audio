{
 "cells": [
  {
   "cell_type": "code",
   "execution_count": 1,
   "metadata": {},
   "outputs": [],
   "source": [
    "import pyaudio\n",
    "import math\n",
    "import numpy as np\n",
    "\n",
    "from lib.test import *"
   ]
  },
  {
   "cell_type": "code",
   "execution_count": 2,
   "metadata": {},
   "outputs": [],
   "source": [
    "audioport = pyaudio.PyAudio()"
   ]
  },
  {
   "cell_type": "code",
   "execution_count": 3,
   "metadata": {},
   "outputs": [],
   "source": [
    "framerate = 44100"
   ]
  },
  {
   "cell_type": "code",
   "execution_count": 4,
   "metadata": {},
   "outputs": [],
   "source": [
    "latency = (262)/framerate"
   ]
  },
  {
   "cell_type": "code",
   "execution_count": 5,
   "metadata": {},
   "outputs": [
    {
     "data": {
      "text/plain": [
       "5.941043083900227"
      ]
     },
     "execution_count": 5,
     "metadata": {},
     "output_type": "execute_result"
    }
   ],
   "source": [
    "latency*1000"
   ]
  },
  {
   "cell_type": "code",
   "execution_count": 52,
   "metadata": {},
   "outputs": [],
   "source": [
    "class Audio():\n",
    "    def __init__(self, gen, amp=1, chunk=1024, latency=True):\n",
    "        self.amp = amp\n",
    "        self.latency = latency\n",
    "        self.gen = gen\n",
    "        self.stream = audioport.open(\n",
    "            rate=framerate, \n",
    "            channels=1, \n",
    "            format=pyaudio.paFloat32, \n",
    "            frames_per_buffer=chunk,\n",
    "            output=True, \n",
    "            stream_callback=self.get_frame)\n",
    "        self.framebuf = np.empty(chunk, dtype=np.float32)\n",
    "        self.when = []\n",
    "    \n",
    "    def get_frame(self, in_data, frame_count, time_info, status):\n",
    "        \n",
    "        for f in range(frame_count):\n",
    "            if self.latency:\n",
    "                # block until within latency\n",
    "                while self.stream.get_time() < time_info['output_buffer_dac_time'] + f / framerate - latency:\n",
    "                    pass\n",
    "            self.framebuf[f] = self.gen()\n",
    "            self.when.append(self.stream.get_time())\n",
    "        return (self.framebuf.tobytes(), pyaudio.paContinue)"
   ]
  },
  {
   "cell_type": "code",
   "execution_count": 53,
   "metadata": {},
   "outputs": [],
   "source": [
    "import torch.nn as nn\n",
    "import torch"
   ]
  },
  {
   "cell_type": "code",
   "execution_count": 54,
   "metadata": {},
   "outputs": [],
   "source": [
    "class Model(nn.Module):\n",
    "    def __init__(self, width=4, layers=2):\n",
    "        super().__init__()\n",
    "        self.uniform = torch.distributions.uniform.Uniform(-1, 1)\n",
    "        self.gru = nn.GRU(1, width, layers)\n",
    "        self.state = None\n",
    "        self.linear = nn.Linear(width, 1)\n",
    "        self.tanh = nn.Tanh()\n",
    "        \n",
    "    def forward(self):\n",
    "        output, self.state = self.gru(self.uniform.sample().reshape((1,1,1)), self.state)\n",
    "        output = self.linear(output)\n",
    "        output = self.tanh(output)\n",
    "        return output.squeeze().detach().numpy()"
   ]
  },
  {
   "cell_type": "code",
   "execution_count": 58,
   "metadata": {},
   "outputs": [],
   "source": [
    "from torch import Tensor"
   ]
  },
  {
   "cell_type": "code",
   "execution_count": 60,
   "metadata": {},
   "outputs": [],
   "source": [
    "audio = Audio(Model())"
   ]
  },
  {
   "cell_type": "code",
   "execution_count": 61,
   "metadata": {},
   "outputs": [],
   "source": [
    "audio.stream.stop_stream()"
   ]
  },
  {
   "cell_type": "code",
   "execution_count": 62,
   "metadata": {},
   "outputs": [
    {
     "data": {
      "text/plain": [
       "[<matplotlib.lines.Line2D at 0x7fab8c8cbc40>]"
      ]
     },
     "execution_count": 62,
     "metadata": {},
     "output_type": "execute_result"
    },
    {
     "data": {
      "image/png": "[encoded data removed]",
      "text/plain": [
       "<Figure size 432x288 with 1 Axes>"
      ]
     },
     "metadata": {
      "needs_background": "light"
     },
     "output_type": "display_data"
    }
   ],
   "source": [
    "import matplotlib.pyplot as plt\n",
    "plt.plot(audio.when)"
   ]
  },
  {
   "cell_type": "code",
   "execution_count": 63,
   "metadata": {},
   "outputs": [],
   "source": [
    "latency = 8"
   ]
  },
  {
   "cell_type": "code",
   "execution_count": 64,
   "metadata": {},
   "outputs": [],
   "source": [
    "audio = Audio(Model(), chunk=2048, latency=False)"
   ]
  },
  {
   "cell_type": "code",
   "execution_count": 65,
   "metadata": {},
   "outputs": [],
   "source": [
    "audio.stream.stop_stream()"
   ]
  },
  {
   "cell_type": "code",
   "execution_count": 66,
   "metadata": {},
   "outputs": [
    {
     "data": {
      "text/plain": [
       "[<matplotlib.lines.Line2D at 0x7fab8c587ee0>]"
      ]
     },
     "execution_count": 66,
     "metadata": {},
     "output_type": "execute_result"
    },
    {
     "data": {
      "image/png": "[encoded data removed]",
      "text/plain": [
       "<Figure size 432x288 with 1 Axes>"
      ]
     },
     "metadata": {
      "needs_background": "light"
     },
     "output_type": "display_data"
    }
   ],
   "source": [
    "plt.plot(audio.when)"
   ]
  },
  {
   "cell_type": "code",
   "execution_count": 67,
   "metadata": {},
   "outputs": [],
   "source": [
    "def plot_deltas(when):\n",
    "    plt.plot([when[j+1] - when[j] for j in range(len(when) - 1)])"
   ]
  },
  {
   "cell_type": "code",
   "execution_count": 68,
   "metadata": {},
   "outputs": [
    {
     "data": {
      "image/png": "[encoded data removed]",
      "text/plain": [
       "<Figure size 432x288 with 1 Axes>"
      ]
     },
     "metadata": {
      "needs_background": "light"
     },
     "output_type": "display_data"
    }
   ],
   "source": [
    "plot_deltas(audio.when)"
   ]
  },
  {
   "cell_type": "code",
   "execution_count": 69,
   "metadata": {},
   "outputs": [],
   "source": [
    "audio = Audio(Model(width=2, layers=1), chunk=2048, latency=False)"
   ]
  },
  {
   "cell_type": "code",
   "execution_count": 70,
   "metadata": {},
   "outputs": [],
   "source": [
    "audio.stream.stop_stream()"
   ]
  },
  {
   "cell_type": "code",
   "execution_count": 71,
   "metadata": {},
   "outputs": [
    {
     "data": {
      "image/png": "[encoded data removed]",
      "text/plain": [
       "<Figure size 432x288 with 1 Axes>"
      ]
     },
     "metadata": {
      "needs_background": "light"
     },
     "output_type": "display_data"
    }
   ],
   "source": [
    "plot_deltas(audio.when)"
   ]
  },
  {
   "cell_type": "code",
   "execution_count": 75,
   "metadata": {},
   "outputs": [],
   "source": [
    "import time\n",
    "\n",
    "class FrameTiming():\n",
    "    def __init__(self, gen):\n",
    "        self.gen = gen\n",
    "        \n",
    "    def count(self):\n",
    "        start = time.time()\n",
    "        printed = 0\n",
    "        frames = 0\n",
    "        while True:\n",
    "            try:\n",
    "                self.gen()\n",
    "                frames += 1\n",
    "                now = time.time()\n",
    "                if now > printed + 2:\n",
    "                    print(f'{frames:06} frames in {now - start}.  {frames / (now - start)} fps')\n",
    "                    printed = now\n",
    "            except KeyboardInterrupt:\n",
    "                break"
   ]
  },
  {
   "cell_type": "code",
   "execution_count": 76,
   "metadata": {},
   "outputs": [],
   "source": [
    "timing = FrameTiming(Model())"
   ]
  },
  {
   "cell_type": "code",
   "execution_count": 77,
   "metadata": {},
   "outputs": [
    {
     "name": "stdout",
     "output_type": "stream",
     "text": [
      "000001 frames in 0.0036809444427490234.  271.66940864045597 fps\n",
      "003595 frames in 2.0043959617614746.  1793.5577942597197 fps\n",
      "007295 frames in 4.004608869552612.  1821.6510619712492 fps\n",
      "010987 frames in 6.005107164382935.  1829.609314079408 fps\n",
      "014645 frames in 8.005348920822144.  1829.4018343045525 fps\n",
      "018143 frames in 10.005381107330322.  1813.3242307689559 fps\n",
      "021514 frames in 12.005466938018799.  1792.0169295431292 fps\n",
      "024971 frames in 14.00619888305664.  1782.8534499968814 fps\n",
      "028299 frames in 16.006619930267334.  1767.9560159036878 fps\n",
      "031481 frames in 18.0069317817688.  1748.2711869810648 fps\n",
      "034033 frames in 20.00694489479065.  1701.0593161008512 fps\n",
      "037419 frames in 22.007166147232056.  1700.309787714597 fps\n",
      "040793 frames in 24.007829904556274.  1699.1539911009695 fps\n"
     ]
    }
   ],
   "source": [
    "timing.count()"
   ]
  },
  {
   "cell_type": "code",
   "execution_count": 78,
   "metadata": {},
   "outputs": [],
   "source": [
    "timing = FrameTiming(Model(width=2, layers=1))"
   ]
  },
  {
   "cell_type": "code",
   "execution_count": 79,
   "metadata": {},
   "outputs": [
    {
     "name": "stdout",
     "output_type": "stream",
     "text": [
      "000001 frames in 0.0025739669799804688.  388.5053723601334 fps\n",
      "004708 frames in 2.002761125564575.  2350.7546356397456 fps\n",
      "009543 frames in 4.002860069274902.  2384.0453662744862 fps\n",
      "014303 frames in 6.003193140029907.  2382.5653558647195 fps\n",
      "019478 frames in 8.003421068191528.  2433.709264331046 fps\n",
      "024735 frames in 10.003458023071289.  2472.6449536703103 fps\n",
      "029946 frames in 12.00365400314331.  2494.7403509096694 fps\n",
      "035173 frames in 14.003777980804443.  2511.679351687315 fps\n",
      "040384 frames in 16.00407385826111.  2523.3575124470117 fps\n",
      "045661 frames in 18.004110097885132.  2536.1431224175644 fps\n",
      "050525 frames in 20.004117012023926.  2525.7300769452013 fps\n",
      "054669 frames in 22.00417399406433.  2484.4831719085237 fps\n"
     ]
    }
   ],
   "source": [
    "timing.count()"
   ]
  },
  {
   "cell_type": "code",
   "execution_count": 81,
   "metadata": {},
   "outputs": [
    {
     "name": "stdout",
     "output_type": "stream",
     "text": [
      "000001 frames in 0.00115203857421875.  868.0264900662252 fps\n",
      "005006 frames in 2.0012762546539307.  2501.40378588845 fps\n",
      "009719 frames in 4.001520156860352.  2428.826950512143 fps\n",
      "014855 frames in 6.001540184020996.  2475.197956609738 fps\n",
      "020134 frames in 8.001764059066772.  2516.1951603891935 fps\n",
      "024751 frames in 10.002563238143921.  2474.465735504093 fps\n"
     ]
    }
   ],
   "source": [
    "timing = FrameTiming(Model(width=1, layers=1))\n",
    "timing.count()"
   ]
  },
  {
   "cell_type": "code",
   "execution_count": 82,
   "metadata": {},
   "outputs": [
    {
     "name": "stdout",
     "output_type": "stream",
     "text": [
      "000001 frames in 0.001276254653930664.  783.5426863441061 fps\n",
      "004543 frames in 2.0016911029815674.  2269.5809524422084 fps\n",
      "009192 frames in 4.0020060539245605.  2296.848099713862 fps\n",
      "013596 frames in 6.002065181732178.  2265.2203180632964 fps\n",
      "018252 frames in 8.002357959747314.  2280.827737500552 fps\n",
      "022968 frames in 10.003141164779663.  2296.078763825574 fps\n",
      "028022 frames in 12.003353118896484.  2334.514341320667 fps\n",
      "033153 frames in 14.003607988357544.  2367.4613019418325 fps\n",
      "038327 frames in 16.00390124320984.  2394.853568361117 fps\n",
      "042896 frames in 18.004374027252197.  2382.532152190949 fps\n"
     ]
    }
   ],
   "source": [
    "timing = FrameTiming(Model(width=16, layers=1))\n",
    "timing.count()"
   ]
  }
 ],
 "metadata": {
  "kernelspec": {
   "display_name": "Python 3",
   "language": "python",
   "name": "python3"
  },
  "language_info": {
   "codemirror_mode": {
    "name": "ipython",
    "version": 3
   },
   "file_extension": ".py",
   "mimetype": "text/x-python",
   "name": "python",
   "nbconvert_exporter": "python",
   "pygments_lexer": "ipython3",
   "version": "3.8.5"
  }
 },
 "nbformat": 4,
 "nbformat_minor": 4
}
